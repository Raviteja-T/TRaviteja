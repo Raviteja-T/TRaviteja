{
  "nbformat": 4,
  "nbformat_minor": 0,
  "metadata": {
    "colab": {
      "name": "Untitled0.ipynb",
      "provenance": [],
      "authorship_tag": "ABX9TyM+YXBrNeIg9gdYzqcDEiaZ",
      "include_colab_link": true
    },
    "kernelspec": {
      "name": "python3",
      "display_name": "Python 3"
    }
  },
  "cells": [
    {
      "cell_type": "markdown",
      "metadata": {
        "id": "view-in-github",
        "colab_type": "text"
      },
      "source": [
        "<a href=\"https://colab.research.google.com/github/Raviteja-T/TRaviteja/blob/main/k-means.ipynb\" target=\"_parent\"><img src=\"https://colab.research.google.com/assets/colab-badge.svg\" alt=\"Open In Colab\"/></a>"
      ]
    },
    {
      "cell_type": "code",
      "metadata": {
        "id": "mlzOKNhsvPjC"
      },
      "source": [
        "import numpy as np\n",
        "import pandas as pd\n",
        "import datetime\n",
        "from datetime import datetime\n",
        "import matplotlib.pyplot as plt\n",
        "import sklearn\n",
        "import requests\n",
        "from sklearn import datasets\n",
        "import seaborn as sns\n",
        "import scipy.stats\n",
        "import math\n",
        "import statistics"
      ],
      "execution_count": 2,
      "outputs": []
    },
    {
      "cell_type": "code",
      "metadata": {
        "id": "x3haL4KavaGi",
        "outputId": "d19c816f-e5b2-4447-be24-2d7a394c17f2",
        "colab": {
          "base_uri": "https://localhost:8080/",
          "height": 166
        }
      },
      "source": [
        "df = pd.read_csv('results.csv')\n",
        "df"
      ],
      "execution_count": 3,
      "outputs": [
        {
          "output_type": "execute_result",
          "data": {
            "text/html": [
              "<div>\n",
              "<style scoped>\n",
              "    .dataframe tbody tr th:only-of-type {\n",
              "        vertical-align: middle;\n",
              "    }\n",
              "\n",
              "    .dataframe tbody tr th {\n",
              "        vertical-align: top;\n",
              "    }\n",
              "\n",
              "    .dataframe thead th {\n",
              "        text-align: right;\n",
              "    }\n",
              "</style>\n",
              "<table border=\"1\" class=\"dataframe\">\n",
              "  <thead>\n",
              "    <tr style=\"text-align: right;\">\n",
              "      <th></th>\n",
              "      <th>Class_01</th>\n",
              "      <th>Class_02</th>\n",
              "      <th>Class_03</th>\n",
              "      <th>Class_04</th>\n",
              "      <th>Class_05</th>\n",
              "      <th>Class_06</th>\n",
              "      <th>Class_07</th>\n",
              "      <th>Class_08</th>\n",
              "      <th>Class_09</th>\n",
              "      <th>Class_10</th>\n",
              "      <th>Class_11</th>\n",
              "      <th>Class_12</th>\n",
              "    </tr>\n",
              "  </thead>\n",
              "  <tbody>\n",
              "    <tr>\n",
              "      <th>0</th>\n",
              "      <td>4.0</td>\n",
              "      <td>3.0</td>\n",
              "      <td>3.0</td>\n",
              "      <td>3.0</td>\n",
              "      <td>4.0</td>\n",
              "      <td>3.0</td>\n",
              "      <td>3.0</td>\n",
              "      <td>4.0</td>\n",
              "      <td>4.0</td>\n",
              "      <td>3.0</td>\n",
              "      <td>4.0</td>\n",
              "      <td>3.0</td>\n",
              "    </tr>\n",
              "    <tr>\n",
              "      <th>1</th>\n",
              "      <td>0.0</td>\n",
              "      <td>2.0</td>\n",
              "      <td>2.0</td>\n",
              "      <td>2.0</td>\n",
              "      <td>2.0</td>\n",
              "      <td>0.0</td>\n",
              "      <td>2.0</td>\n",
              "      <td>2.0</td>\n",
              "      <td>0.0</td>\n",
              "      <td>0.0</td>\n",
              "      <td>0.0</td>\n",
              "      <td>0.0</td>\n",
              "    </tr>\n",
              "    <tr>\n",
              "      <th>2</th>\n",
              "      <td>2.0</td>\n",
              "      <td>0.0</td>\n",
              "      <td>2.0</td>\n",
              "      <td>0.0</td>\n",
              "      <td>0.0</td>\n",
              "      <td>2.0</td>\n",
              "      <td>0.0</td>\n",
              "      <td>0.0</td>\n",
              "      <td>2.0</td>\n",
              "      <td>2.0</td>\n",
              "      <td>2.0</td>\n",
              "      <td>2.0</td>\n",
              "    </tr>\n",
              "    <tr>\n",
              "      <th>3</th>\n",
              "      <td>0.6</td>\n",
              "      <td>0.6</td>\n",
              "      <td>0.4</td>\n",
              "      <td>0.6</td>\n",
              "      <td>0.6</td>\n",
              "      <td>0.6</td>\n",
              "      <td>0.6</td>\n",
              "      <td>0.6</td>\n",
              "      <td>0.6</td>\n",
              "      <td>0.6</td>\n",
              "      <td>0.6</td>\n",
              "      <td>0.6</td>\n",
              "    </tr>\n",
              "  </tbody>\n",
              "</table>\n",
              "</div>"
            ],
            "text/plain": [
              "   Class_01  Class_02  Class_03  ...  Class_10  Class_11  Class_12\n",
              "0       4.0       3.0       3.0  ...       3.0       4.0       3.0\n",
              "1       0.0       2.0       2.0  ...       0.0       0.0       0.0\n",
              "2       2.0       0.0       2.0  ...       2.0       2.0       2.0\n",
              "3       0.6       0.6       0.4  ...       0.6       0.6       0.6\n",
              "\n",
              "[4 rows x 12 columns]"
            ]
          },
          "metadata": {
            "tags": []
          },
          "execution_count": 3
        }
      ]
    },
    {
      "cell_type": "code",
      "metadata": {
        "id": "HR_wQxQZvh0P",
        "outputId": "006c6147-36d7-4200-b889-fa062b0781d6",
        "colab": {
          "base_uri": "https://localhost:8080/",
          "height": 284
        }
      },
      "source": [
        "df.describe()"
      ],
      "execution_count": 4,
      "outputs": [
        {
          "output_type": "execute_result",
          "data": {
            "text/html": [
              "<div>\n",
              "<style scoped>\n",
              "    .dataframe tbody tr th:only-of-type {\n",
              "        vertical-align: middle;\n",
              "    }\n",
              "\n",
              "    .dataframe tbody tr th {\n",
              "        vertical-align: top;\n",
              "    }\n",
              "\n",
              "    .dataframe thead th {\n",
              "        text-align: right;\n",
              "    }\n",
              "</style>\n",
              "<table border=\"1\" class=\"dataframe\">\n",
              "  <thead>\n",
              "    <tr style=\"text-align: right;\">\n",
              "      <th></th>\n",
              "      <th>Class_01</th>\n",
              "      <th>Class_02</th>\n",
              "      <th>Class_03</th>\n",
              "      <th>Class_04</th>\n",
              "      <th>Class_05</th>\n",
              "      <th>Class_06</th>\n",
              "      <th>Class_07</th>\n",
              "      <th>Class_08</th>\n",
              "      <th>Class_09</th>\n",
              "      <th>Class_10</th>\n",
              "      <th>Class_11</th>\n",
              "      <th>Class_12</th>\n",
              "    </tr>\n",
              "  </thead>\n",
              "  <tbody>\n",
              "    <tr>\n",
              "      <th>count</th>\n",
              "      <td>4.000000</td>\n",
              "      <td>4.000000</td>\n",
              "      <td>4.000000</td>\n",
              "      <td>4.000000</td>\n",
              "      <td>4.000000</td>\n",
              "      <td>4.000000</td>\n",
              "      <td>4.000000</td>\n",
              "      <td>4.000000</td>\n",
              "      <td>4.000000</td>\n",
              "      <td>4.000000</td>\n",
              "      <td>4.000000</td>\n",
              "      <td>4.000000</td>\n",
              "    </tr>\n",
              "    <tr>\n",
              "      <th>mean</th>\n",
              "      <td>1.650000</td>\n",
              "      <td>1.400000</td>\n",
              "      <td>1.850000</td>\n",
              "      <td>1.400000</td>\n",
              "      <td>1.650000</td>\n",
              "      <td>1.400000</td>\n",
              "      <td>1.400000</td>\n",
              "      <td>1.650000</td>\n",
              "      <td>1.650000</td>\n",
              "      <td>1.400000</td>\n",
              "      <td>1.650000</td>\n",
              "      <td>1.400000</td>\n",
              "    </tr>\n",
              "    <tr>\n",
              "      <th>std</th>\n",
              "      <td>1.776701</td>\n",
              "      <td>1.356466</td>\n",
              "      <td>1.075484</td>\n",
              "      <td>1.356466</td>\n",
              "      <td>1.776701</td>\n",
              "      <td>1.356466</td>\n",
              "      <td>1.356466</td>\n",
              "      <td>1.776701</td>\n",
              "      <td>1.776701</td>\n",
              "      <td>1.356466</td>\n",
              "      <td>1.776701</td>\n",
              "      <td>1.356466</td>\n",
              "    </tr>\n",
              "    <tr>\n",
              "      <th>min</th>\n",
              "      <td>0.000000</td>\n",
              "      <td>0.000000</td>\n",
              "      <td>0.400000</td>\n",
              "      <td>0.000000</td>\n",
              "      <td>0.000000</td>\n",
              "      <td>0.000000</td>\n",
              "      <td>0.000000</td>\n",
              "      <td>0.000000</td>\n",
              "      <td>0.000000</td>\n",
              "      <td>0.000000</td>\n",
              "      <td>0.000000</td>\n",
              "      <td>0.000000</td>\n",
              "    </tr>\n",
              "    <tr>\n",
              "      <th>25%</th>\n",
              "      <td>0.450000</td>\n",
              "      <td>0.450000</td>\n",
              "      <td>1.600000</td>\n",
              "      <td>0.450000</td>\n",
              "      <td>0.450000</td>\n",
              "      <td>0.450000</td>\n",
              "      <td>0.450000</td>\n",
              "      <td>0.450000</td>\n",
              "      <td>0.450000</td>\n",
              "      <td>0.450000</td>\n",
              "      <td>0.450000</td>\n",
              "      <td>0.450000</td>\n",
              "    </tr>\n",
              "    <tr>\n",
              "      <th>50%</th>\n",
              "      <td>1.300000</td>\n",
              "      <td>1.300000</td>\n",
              "      <td>2.000000</td>\n",
              "      <td>1.300000</td>\n",
              "      <td>1.300000</td>\n",
              "      <td>1.300000</td>\n",
              "      <td>1.300000</td>\n",
              "      <td>1.300000</td>\n",
              "      <td>1.300000</td>\n",
              "      <td>1.300000</td>\n",
              "      <td>1.300000</td>\n",
              "      <td>1.300000</td>\n",
              "    </tr>\n",
              "    <tr>\n",
              "      <th>75%</th>\n",
              "      <td>2.500000</td>\n",
              "      <td>2.250000</td>\n",
              "      <td>2.250000</td>\n",
              "      <td>2.250000</td>\n",
              "      <td>2.500000</td>\n",
              "      <td>2.250000</td>\n",
              "      <td>2.250000</td>\n",
              "      <td>2.500000</td>\n",
              "      <td>2.500000</td>\n",
              "      <td>2.250000</td>\n",
              "      <td>2.500000</td>\n",
              "      <td>2.250000</td>\n",
              "    </tr>\n",
              "    <tr>\n",
              "      <th>max</th>\n",
              "      <td>4.000000</td>\n",
              "      <td>3.000000</td>\n",
              "      <td>3.000000</td>\n",
              "      <td>3.000000</td>\n",
              "      <td>4.000000</td>\n",
              "      <td>3.000000</td>\n",
              "      <td>3.000000</td>\n",
              "      <td>4.000000</td>\n",
              "      <td>4.000000</td>\n",
              "      <td>3.000000</td>\n",
              "      <td>4.000000</td>\n",
              "      <td>3.000000</td>\n",
              "    </tr>\n",
              "  </tbody>\n",
              "</table>\n",
              "</div>"
            ],
            "text/plain": [
              "       Class_01  Class_02  Class_03  ...  Class_10  Class_11  Class_12\n",
              "count  4.000000  4.000000  4.000000  ...  4.000000  4.000000  4.000000\n",
              "mean   1.650000  1.400000  1.850000  ...  1.400000  1.650000  1.400000\n",
              "std    1.776701  1.356466  1.075484  ...  1.356466  1.776701  1.356466\n",
              "min    0.000000  0.000000  0.400000  ...  0.000000  0.000000  0.000000\n",
              "25%    0.450000  0.450000  1.600000  ...  0.450000  0.450000  0.450000\n",
              "50%    1.300000  1.300000  2.000000  ...  1.300000  1.300000  1.300000\n",
              "75%    2.500000  2.250000  2.250000  ...  2.250000  2.500000  2.250000\n",
              "max    4.000000  3.000000  3.000000  ...  3.000000  4.000000  3.000000\n",
              "\n",
              "[8 rows x 12 columns]"
            ]
          },
          "metadata": {
            "tags": []
          },
          "execution_count": 4
        }
      ]
    },
    {
      "cell_type": "code",
      "metadata": {
        "id": "13IMjA9O1IGI"
      },
      "source": [
        "np.random.seed(seed=0)\n",
        "Class_01 = np.random.randn(1000)\n",
        "Class_02 = np.random.randn(1000)\n",
        "Class_03 = np.random.randn(1000)\n",
        "Class_04 = np.random.randn(1000)\n",
        "Class_05 = np.random.randn(1000)\n",
        "Class_06 = np.random.randn(1000)\n",
        "Class_07 = np.random.randn(1000)\n",
        "Class_08 = np.random.randn(1000)\n",
        "Class_09 = np.random.randn(1000)\n",
        "Class_10 = np.random.randn(1000)"
      ],
      "execution_count": 9,
      "outputs": []
    },
    {
      "cell_type": "code",
      "metadata": {
        "id": "8ACCQdvxwqpi",
        "outputId": "31605f22-edbf-4785-dc9d-cb4b08f864f5",
        "colab": {
          "base_uri": "https://localhost:8080/",
          "height": 265
        }
      },
      "source": [
        "fig, ax = plt.subplots()\n",
        "ax.boxplot((Class_01, Class_02, Class_03,Class_04, Class_05, Class_06,Class_07, Class_08, Class_09, Class_10\n",
        "            ), vert=False, showmeans=True, meanline=True,\n",
        "           labels=('Class_01', 'Class_02', 'Class_03','Class_04', 'Class_05', 'Class_06', 'Class_07', 'Class_08', 'Class_09', 'Class_10'), patch_artist=True,\n",
        "           medianprops={'linewidth': 2, 'color': 'purple'},\n",
        "           meanprops={'linewidth': 2, 'color': 'red'})\n",
        "plt.show()"
      ],
      "execution_count": 10,
      "outputs": [
        {
          "output_type": "display_data",
          "data": {
            "image/png": "[encoded data removed]",
            "text/plain": [
              "<Figure size 432x288 with 1 Axes>"
            ]
          },
          "metadata": {
            "tags": []
          }
        }
      ]
    }
  ]
}